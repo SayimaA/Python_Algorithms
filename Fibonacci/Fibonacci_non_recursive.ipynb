{
  "nbformat": 4,
  "nbformat_minor": 0,
  "metadata": {
    "colab": {
      "name": "Fibonacci_non_recursive.ipynb",
      "provenance": [],
      "authorship_tag": "ABX9TyMTB/lF+MdZh+8zIa9G3TcL",
      "include_colab_link": true
    },
    "kernelspec": {
      "name": "python3",
      "display_name": "Python 3"
    }
  },
  "cells": [
    {
      "cell_type": "markdown",
      "metadata": {
        "id": "view-in-github",
        "colab_type": "text"
      },
      "source": [
        "<a href=\"https://colab.research.google.com/github/SayimaA/Python_Algorithms/blob/master/Fibonacci/Fibonacci_non_recursive.ipynb\" target=\"_parent\"><img src=\"https://colab.research.google.com/assets/colab-badge.svg\" alt=\"Open In Colab\"/></a>"
      ]
    },
    {
      "cell_type": "code",
      "metadata": {
        "id": "GQr2U7KBa-1d",
        "colab_type": "code",
        "colab": {
          "base_uri": "https://localhost:8080/",
          "height": 68
        },
        "outputId": "367f8c1f-634f-42e2-d3a9-bb8479196ac4"
      },
      "source": [
        "import time\n",
        "\n",
        "start = time.time()\n",
        "\n",
        "n = int(input(\"Enter the number to computer fibonacci number :\"))\n",
        "fib = list()\n",
        "fib.append(0)\n",
        "fib.append(1)\n",
        "\n",
        "for i in range(2,n+1):\n",
        "  fib.append(fib[i-1]+fib[i-2])\n",
        "\n",
        "print(\"Nth Fibonacci number is:\", fib[n])\n",
        "\n",
        "end = time.time()\n",
        "print(\"Execution time:\", end-start)"
      ],
      "execution_count": 7,
      "outputs": [
        {
          "output_type": "stream",
          "text": [
            "Enter the number to computer fibonacci number :10\n",
            "Nth Fibonacci number is: 55\n",
            "Execution time: 1.218644618988037\n"
          ],
          "name": "stdout"
        }
      ]
    },
    {
      "cell_type": "code",
      "metadata": {
        "id": "Qz5B812PbnDL",
        "colab_type": "code",
        "colab": {
          "base_uri": "https://localhost:8080/",
          "height": 68
        },
        "outputId": "397ca1f8-2fd8-4e17-abb0-42aa957a3f15"
      },
      "source": [
        "import time\n",
        "\n",
        "start = time.time()\n",
        "\n",
        "n = int(input(\"Enter the number to computer fibonacci number :\"))\n",
        "fib = list()\n",
        "fib.append(0)\n",
        "fib.append(1)\n",
        "\n",
        "for i in range(2,n+1):\n",
        "  fib.append(fib[i-1]+fib[i-2])\n",
        "\n",
        "print(\"Nth Fibonacci number is:\", fib[n])\n",
        "\n",
        "end = time.time()\n",
        "print(\"Execution time:\", end-start)"
      ],
      "execution_count": 8,
      "outputs": [
        {
          "output_type": "stream",
          "text": [
            "Enter the number to computer fibonacci number :60\n",
            "Nth Fibonacci number is: 1548008755920\n",
            "Execution time: 6.110883712768555\n"
          ],
          "name": "stdout"
        }
      ]
    },
    {
      "cell_type": "code",
      "metadata": {
        "id": "MljpcJFgcb7A",
        "colab_type": "code",
        "colab": {
          "base_uri": "https://localhost:8080/",
          "height": 68
        },
        "outputId": "fc784873-89c6-45c0-fd5b-38721f646927"
      },
      "source": [
        "import time\n",
        "\n",
        "start = time.time()\n",
        "\n",
        "n = int(input(\"Enter the number to computer fibonacci number :\"))\n",
        "fib = list()\n",
        "fib.append(0)\n",
        "fib.append(1)\n",
        "\n",
        "for i in range(2,n+1):\n",
        "  fib.append(fib[i-1]+fib[i-2])\n",
        "\n",
        "print(\"Nth Fibonacci number is:\", fib[n])\n",
        "\n",
        "end = time.time()\n",
        "print(\"Execution time:\", end-start)"
      ],
      "execution_count": 9,
      "outputs": [
        {
          "output_type": "stream",
          "text": [
            "Enter the number to computer fibonacci number :100\n",
            "Nth Fibonacci number is: 354224848179261915075\n",
            "Execution time: 4.135257720947266\n"
          ],
          "name": "stdout"
        }
      ]
    },
    {
      "cell_type": "code",
      "metadata": {
        "id": "BC2sKxSIckj7",
        "colab_type": "code",
        "colab": {}
      },
      "source": [
        ""
      ],
      "execution_count": null,
      "outputs": []
    }
  ]
}