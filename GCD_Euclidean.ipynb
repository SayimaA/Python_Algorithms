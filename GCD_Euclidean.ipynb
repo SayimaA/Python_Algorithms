{
  "nbformat": 4,
  "nbformat_minor": 0,
  "metadata": {
    "colab": {
      "name": "GCD_Euclidean.ipynb",
      "provenance": [],
      "authorship_tag": "ABX9TyNkyj64pjCOVeHkEjeyAVnI",
      "include_colab_link": true
    },
    "kernelspec": {
      "name": "python3",
      "display_name": "Python 3"
    }
  },
  "cells": [
    {
      "cell_type": "markdown",
      "metadata": {
        "id": "view-in-github",
        "colab_type": "text"
      },
      "source": [
        "<a href=\"https://colab.research.google.com/github/SayimaA/Python_Algorithms/blob/master/GCD_Euclidean.ipynb\" target=\"_parent\"><img src=\"https://colab.research.google.com/assets/colab-badge.svg\" alt=\"Open In Colab\"/></a>"
      ]
    },
    {
      "cell_type": "code",
      "metadata": {
        "id": "kBvYZ53cx-qm",
        "colab_type": "code",
        "colab": {
          "base_uri": "https://localhost:8080/",
          "height": 85
        },
        "outputId": "9bdb05c2-7954-4ad9-e239-b5885e504d0d"
      },
      "source": [
        "import time\n",
        "\n",
        "start = time.time()\n",
        "\n",
        "def EuclideanGCD(a,b):\n",
        "  if b == 0:\n",
        "    return a\n",
        "  else:\n",
        "    r = a%b\n",
        "    return EuclideanGCD(b,r)\n",
        "\n",
        "\n",
        "a = int(input(\"Enter the value for a: \"))\n",
        "b = int(input(\"Enter the value for b: \"))\n",
        "\n",
        "print(\"The Greatest common divisor of {} and {}:\".format(a,b),EuclideanGCD(a,b))\n",
        "end = time.time()\n",
        "print(\" Execution time: \", end-start)\n",
        "\n"
      ],
      "execution_count": 10,
      "outputs": [
        {
          "output_type": "stream",
          "text": [
            "Enter the value for a: 4555576899\n",
            "Enter the value for b: 858599996\n",
            "The Greatest common divisor of 4555576899 and 858599996: 1\n",
            " Execution time:  6.188762903213501\n"
          ],
          "name": "stdout"
        }
      ]
    },
    {
      "cell_type": "code",
      "metadata": {
        "id": "3L5_7UM9zlCa",
        "colab_type": "code",
        "colab": {}
      },
      "source": [
        ""
      ],
      "execution_count": null,
      "outputs": []
    }
  ]
}