{
  "nbformat": 4,
  "nbformat_minor": 0,
  "metadata": {
    "colab": {
      "name": "fizzbuzz.ipynb",
      "provenance": [],
      "authorship_tag": "ABX9TyP9PHmmzLoJLsa7vU6HdsnD",
      "include_colab_link": true
    },
    "kernelspec": {
      "name": "python3",
      "display_name": "Python 3"
    }
  },
  "cells": [
    {
      "cell_type": "markdown",
      "metadata": {
        "id": "view-in-github",
        "colab_type": "text"
      },
      "source": [
        "<a href=\"https://colab.research.google.com/github/SayimaA/Python_Algorithms/blob/master/fizzbuzz.ipynb\" target=\"_parent\"><img src=\"https://colab.research.google.com/assets/colab-badge.svg\" alt=\"Open In Colab\"/></a>"
      ]
    },
    {
      "cell_type": "code",
      "metadata": {
        "id": "5QMN-jcH-IXd",
        "colab_type": "code",
        "colab": {}
      },
      "source": [
        "\n",
        "def isMultiple(i, m):\n",
        "  if i % m == 0:\n",
        "    return True\n",
        "\n",
        "def fizzbuzz(n):\n",
        "  for i in range(1,n+1):\n",
        "    if isMultiple(i, 15):\n",
        "      print(\"FizzBuzz\")\n",
        "    elif isMultiple(i,3):\n",
        "      print(\"Fizz\")\n",
        "    elif isMultiple(i,5):\n",
        "      print(\"Buzz\")\n",
        "    else:\n",
        "      print(i)\n",
        "\n",
        "n = int(input())\n",
        "print(fizzbuzz(n))"
      ],
      "execution_count": null,
      "outputs": []
    }
  ]
}